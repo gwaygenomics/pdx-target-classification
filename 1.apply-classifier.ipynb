{
 "cells": [
  {
   "cell_type": "markdown",
   "metadata": {},
   "source": [
    "# Apply Machine Learning Classifiers to PDX RNAseq data\n",
    "\n",
    "**Gregory Way, 2018**\n",
    "\n",
    "In the following notebook, I apply three distinct classifiers to patient derived xenograft (PDX) RNAseq data (FPKM).\n",
    "The first classifier detects Ras activation. For more details about the algorithm and results, refer to [Way et al. 2018](https://doi.org/10.1016/j.celrep.2018.03.046 \"Machine Learning Detects Pan-cancer Ras Pathway Activation in The Cancer Genome Atlas\"). I also include _TP53_ inactivation predictions. This classifier was previously applied in [Knijnenburg et al. 2018](https://doi.org/10.1016/j.celrep.2018.03.076 \"Genomic and Molecular Landscape of DNA Damage Repair Deficiency across The Cancer Genome Atlas\"). The third is a classifier that predicts _NF1_ inactivation. We previously applied this in [Way et al. 2017](https://doi.org/10.1186/s12864-017-3519-7 \"A machine learning classifier trained on cancer transcriptomes detects NF1 inactivation signal in glioblastoma\").\n",
    "\n",
    "To apply other classifiers (targeting other genes of interest) refer to https://github.com/greenelab/pancancer.\n",
    "\n",
    "Also note that we have implemented classifiers on a larger scale and made the models accessible to non-computational biologists (see [Project Cognoma](http://cognoma.org)).\n",
    "\n",
    "## Procedure\n",
    "\n",
    "1. Load RNAseq matrix (`.RDS`)\n",
    "  * The matrix is in `sample` x `gene symbol` format (250 x 51,968)\n",
    "2. Process matrix\n",
    "  * Take the z-score by gene\n",
    "3. Load classifier coefficients\n",
    "  * For both _Ras_, _TP53_, and _NF1_ classifiers\n",
    "4. Apply each classifier to the input data\n",
    "  * This also requires additional processing steps to the input data (subsetting to the respective classifier genes)\n",
    "  * Also note that not all genes are present in the input RNAseq genes.\n",
    "5. Shuffle the gene expression data (by gene) and apply each classifier to random data\n",
    "\n",
    "### Important Caveat\n",
    "\n",
    "Because not all of the classifier genes are found in the input dataset, the classifier probability is not calibrated correctly. The scores should be interpreted as continuous values representing relative gene alterations, and not as a pure probability estimate.\n",
    "\n",
    "## Output\n",
    "\n",
    "The output of this notebook are the predicted scores for both classifiers across all samples for real data and shuffled data. This is in the form of a single text file with three columns (`sample_id`, `ras_score`, `tp53_score`, `nf1_score`,  `ras_shuffle`, `tp53_shuffle`, `nf1_shuffle`)."
   ]
  },
  {
   "cell_type": "code",
   "execution_count": 1,
   "metadata": {},
   "outputs": [],
   "source": [
    "import os\n",
    "import numpy as np\n",
    "import pandas as pd\n",
    "\n",
    "from sklearn.preprocessing import StandardScaler\n",
    "\n",
    "import matplotlib.pyplot as plt\n",
    "\n",
    "import rpy2.robjects as robjects\n",
    "from rpy2.robjects import pandas2ri\n",
    "\n",
    "from utils import apply_classifier, shuffle_columns"
   ]
  },
  {
   "cell_type": "code",
   "execution_count": 2,
   "metadata": {},
   "outputs": [],
   "source": [
    "%matplotlib inline"
   ]
  },
  {
   "cell_type": "code",
   "execution_count": 3,
   "metadata": {},
   "outputs": [],
   "source": [
    "np.random.seed(123)"
   ]
  },
  {
   "cell_type": "code",
   "execution_count": 4,
   "metadata": {},
   "outputs": [],
   "source": [
    "pandas2ri.activate()\n",
    "readRDS = robjects.r['readRDS']"
   ]
  },
  {
   "cell_type": "code",
   "execution_count": 5,
   "metadata": {},
   "outputs": [],
   "source": [
    "# Make results directory\n",
    "os.makedirs('./results', exist_ok=True)"
   ]
  },
  {
   "cell_type": "code",
   "execution_count": 6,
   "metadata": {},
   "outputs": [
    {
     "name": "stdout",
     "output_type": "stream",
     "text": [
      "(248, 51968)\n"
     ]
    },
    {
     "data": {
      "text/html": [
       "<div>\n",
       "<style scoped>\n",
       "    .dataframe tbody tr th:only-of-type {\n",
       "        vertical-align: middle;\n",
       "    }\n",
       "\n",
       "    .dataframe tbody tr th {\n",
       "        vertical-align: top;\n",
       "    }\n",
       "\n",
       "    .dataframe thead th {\n",
       "        text-align: right;\n",
       "    }\n",
       "</style>\n",
       "<table border=\"1\" class=\"dataframe\">\n",
       "  <thead>\n",
       "    <tr style=\"text-align: right;\">\n",
       "      <th>gene_short_name</th>\n",
       "      <th>5S_rRNA</th>\n",
       "      <th>7SK</th>\n",
       "      <th>A-575C2.4</th>\n",
       "      <th>A1BG</th>\n",
       "      <th>A1BG-AS1</th>\n",
       "      <th>A1CF</th>\n",
       "      <th>A2M</th>\n",
       "      <th>A2M-AS1</th>\n",
       "      <th>A2ML1</th>\n",
       "      <th>A2ML1-AS1</th>\n",
       "      <th>...</th>\n",
       "      <th>ZWINT</th>\n",
       "      <th>ZXDA</th>\n",
       "      <th>ZXDB</th>\n",
       "      <th>ZXDC</th>\n",
       "      <th>ZYG11A</th>\n",
       "      <th>ZYG11AP1</th>\n",
       "      <th>ZYG11B</th>\n",
       "      <th>ZYX</th>\n",
       "      <th>ZZEF1</th>\n",
       "      <th>ZZZ3</th>\n",
       "    </tr>\n",
       "  </thead>\n",
       "  <tbody>\n",
       "    <tr>\n",
       "      <th>ALL-102</th>\n",
       "      <td>0.0</td>\n",
       "      <td>3.58839</td>\n",
       "      <td>0.537883</td>\n",
       "      <td>4.27196</td>\n",
       "      <td>3.76506</td>\n",
       "      <td>0.0</td>\n",
       "      <td>5.89165</td>\n",
       "      <td>0.905337</td>\n",
       "      <td>0.074723</td>\n",
       "      <td>3.804390e-281</td>\n",
       "      <td>...</td>\n",
       "      <td>42.6210</td>\n",
       "      <td>2.54349</td>\n",
       "      <td>4.53236</td>\n",
       "      <td>6.76070</td>\n",
       "      <td>0.010528</td>\n",
       "      <td>0.0</td>\n",
       "      <td>3.98401</td>\n",
       "      <td>54.4958</td>\n",
       "      <td>12.08540</td>\n",
       "      <td>5.84061</td>\n",
       "    </tr>\n",
       "    <tr>\n",
       "      <th>ALL-105</th>\n",
       "      <td>0.0</td>\n",
       "      <td>5.30719</td>\n",
       "      <td>1.062420</td>\n",
       "      <td>1.27740</td>\n",
       "      <td>2.48042</td>\n",
       "      <td>0.0</td>\n",
       "      <td>7.61281</td>\n",
       "      <td>0.979303</td>\n",
       "      <td>0.000000</td>\n",
       "      <td>3.456910e-285</td>\n",
       "      <td>...</td>\n",
       "      <td>44.5727</td>\n",
       "      <td>1.99089</td>\n",
       "      <td>3.62848</td>\n",
       "      <td>6.12268</td>\n",
       "      <td>0.000000</td>\n",
       "      <td>0.0</td>\n",
       "      <td>4.65392</td>\n",
       "      <td>13.3985</td>\n",
       "      <td>8.11452</td>\n",
       "      <td>7.62316</td>\n",
       "    </tr>\n",
       "    <tr>\n",
       "      <th>ALL-106</th>\n",
       "      <td>0.0</td>\n",
       "      <td>9.07089</td>\n",
       "      <td>0.885766</td>\n",
       "      <td>1.01986</td>\n",
       "      <td>5.37849</td>\n",
       "      <td>0.0</td>\n",
       "      <td>7.64102</td>\n",
       "      <td>0.604450</td>\n",
       "      <td>0.091972</td>\n",
       "      <td>4.924820e-02</td>\n",
       "      <td>...</td>\n",
       "      <td>20.8279</td>\n",
       "      <td>1.80050</td>\n",
       "      <td>2.22317</td>\n",
       "      <td>10.31110</td>\n",
       "      <td>0.005779</td>\n",
       "      <td>0.0</td>\n",
       "      <td>5.07277</td>\n",
       "      <td>19.0703</td>\n",
       "      <td>14.91710</td>\n",
       "      <td>12.20690</td>\n",
       "    </tr>\n",
       "  </tbody>\n",
       "</table>\n",
       "<p>3 rows × 51968 columns</p>\n",
       "</div>"
      ],
      "text/plain": [
       "gene_short_name  5S_rRNA      7SK  A-575C2.4     A1BG  A1BG-AS1  A1CF  \\\n",
       "ALL-102              0.0  3.58839   0.537883  4.27196   3.76506   0.0   \n",
       "ALL-105              0.0  5.30719   1.062420  1.27740   2.48042   0.0   \n",
       "ALL-106              0.0  9.07089   0.885766  1.01986   5.37849   0.0   \n",
       "\n",
       "gene_short_name      A2M   A2M-AS1     A2ML1      A2ML1-AS1    ...     \\\n",
       "ALL-102          5.89165  0.905337  0.074723  3.804390e-281    ...      \n",
       "ALL-105          7.61281  0.979303  0.000000  3.456910e-285    ...      \n",
       "ALL-106          7.64102  0.604450  0.091972   4.924820e-02    ...      \n",
       "\n",
       "gene_short_name    ZWINT     ZXDA     ZXDB      ZXDC    ZYG11A  ZYG11AP1  \\\n",
       "ALL-102          42.6210  2.54349  4.53236   6.76070  0.010528       0.0   \n",
       "ALL-105          44.5727  1.99089  3.62848   6.12268  0.000000       0.0   \n",
       "ALL-106          20.8279  1.80050  2.22317  10.31110  0.005779       0.0   \n",
       "\n",
       "gene_short_name   ZYG11B      ZYX     ZZEF1      ZZZ3  \n",
       "ALL-102          3.98401  54.4958  12.08540   5.84061  \n",
       "ALL-105          4.65392  13.3985   8.11452   7.62316  \n",
       "ALL-106          5.07277  19.0703  14.91710  12.20690  \n",
       "\n",
       "[3 rows x 51968 columns]"
      ]
     },
     "execution_count": 6,
     "metadata": {},
     "output_type": "execute_result"
    }
   ],
   "source": [
    "# Load PDX gene expression data in RDS format\n",
    "file = os.path.join('data', 'raw', '2018-12-27-PPTC_FPKM_matrix_withModelID-248.RDS')\n",
    "\n",
    "exprs_rds = readRDS(file)\n",
    "exprs_df = pandas2ri.ri2py(exprs_rds).set_index('gene_short_name').transpose()\n",
    "\n",
    "print(exprs_df.shape)\n",
    "exprs_df.head(3)"
   ]
  },
  {
   "cell_type": "code",
   "execution_count": 7,
   "metadata": {},
   "outputs": [
    {
     "data": {
      "text/html": [
       "<div>\n",
       "<style scoped>\n",
       "    .dataframe tbody tr th:only-of-type {\n",
       "        vertical-align: middle;\n",
       "    }\n",
       "\n",
       "    .dataframe tbody tr th {\n",
       "        vertical-align: top;\n",
       "    }\n",
       "\n",
       "    .dataframe thead th {\n",
       "        text-align: right;\n",
       "    }\n",
       "</style>\n",
       "<table border=\"1\" class=\"dataframe\">\n",
       "  <thead>\n",
       "    <tr style=\"text-align: right;\">\n",
       "      <th>gene_short_name</th>\n",
       "      <th>5S_rRNA</th>\n",
       "      <th>7SK</th>\n",
       "      <th>A-575C2.4</th>\n",
       "      <th>A1BG</th>\n",
       "      <th>A1BG-AS1</th>\n",
       "      <th>A1CF</th>\n",
       "      <th>A2M</th>\n",
       "      <th>A2M-AS1</th>\n",
       "      <th>A2ML1</th>\n",
       "      <th>A2ML1-AS1</th>\n",
       "      <th>...</th>\n",
       "      <th>ZWINT</th>\n",
       "      <th>ZXDA</th>\n",
       "      <th>ZXDB</th>\n",
       "      <th>ZXDC</th>\n",
       "      <th>ZYG11A</th>\n",
       "      <th>ZYG11AP1</th>\n",
       "      <th>ZYG11B</th>\n",
       "      <th>ZYX</th>\n",
       "      <th>ZZEF1</th>\n",
       "      <th>ZZZ3</th>\n",
       "    </tr>\n",
       "  </thead>\n",
       "  <tbody>\n",
       "    <tr>\n",
       "      <th>ALL-102</th>\n",
       "      <td>-0.105476</td>\n",
       "      <td>-0.362749</td>\n",
       "      <td>0.176368</td>\n",
       "      <td>-0.085413</td>\n",
       "      <td>0.568512</td>\n",
       "      <td>-0.076126</td>\n",
       "      <td>-0.163277</td>\n",
       "      <td>0.376611</td>\n",
       "      <td>-0.166153</td>\n",
       "      <td>-0.280679</td>\n",
       "      <td>...</td>\n",
       "      <td>-0.087362</td>\n",
       "      <td>0.987357</td>\n",
       "      <td>0.143666</td>\n",
       "      <td>-0.207240</td>\n",
       "      <td>-0.520330</td>\n",
       "      <td>-0.26888</td>\n",
       "      <td>-0.802308</td>\n",
       "      <td>0.863789</td>\n",
       "      <td>1.247531</td>\n",
       "      <td>-1.332722</td>\n",
       "    </tr>\n",
       "    <tr>\n",
       "      <th>ALL-105</th>\n",
       "      <td>-0.105476</td>\n",
       "      <td>-0.212117</td>\n",
       "      <td>1.396867</td>\n",
       "      <td>-0.876420</td>\n",
       "      <td>-0.218766</td>\n",
       "      <td>-0.076126</td>\n",
       "      <td>-0.147816</td>\n",
       "      <td>0.456024</td>\n",
       "      <td>-0.187391</td>\n",
       "      <td>-0.280679</td>\n",
       "      <td>...</td>\n",
       "      <td>-0.007436</td>\n",
       "      <td>0.521135</td>\n",
       "      <td>-0.027453</td>\n",
       "      <td>-0.432469</td>\n",
       "      <td>-0.534542</td>\n",
       "      <td>-0.26888</td>\n",
       "      <td>-0.686817</td>\n",
       "      <td>-0.591681</td>\n",
       "      <td>0.285777</td>\n",
       "      <td>-1.043913</td>\n",
       "    </tr>\n",
       "    <tr>\n",
       "      <th>ALL-106</th>\n",
       "      <td>-0.105476</td>\n",
       "      <td>0.117725</td>\n",
       "      <td>0.985826</td>\n",
       "      <td>-0.944448</td>\n",
       "      <td>1.557286</td>\n",
       "      <td>-0.076126</td>\n",
       "      <td>-0.147562</td>\n",
       "      <td>0.053567</td>\n",
       "      <td>-0.161250</td>\n",
       "      <td>1.223834</td>\n",
       "      <td>...</td>\n",
       "      <td>-0.979839</td>\n",
       "      <td>0.360506</td>\n",
       "      <td>-0.293502</td>\n",
       "      <td>1.046099</td>\n",
       "      <td>-0.526741</td>\n",
       "      <td>-0.26888</td>\n",
       "      <td>-0.614609</td>\n",
       "      <td>-0.390813</td>\n",
       "      <td>1.933373</td>\n",
       "      <td>-0.301257</td>\n",
       "    </tr>\n",
       "    <tr>\n",
       "      <th>ALL-107</th>\n",
       "      <td>-0.105476</td>\n",
       "      <td>-0.313368</td>\n",
       "      <td>0.529082</td>\n",
       "      <td>-0.374782</td>\n",
       "      <td>0.828589</td>\n",
       "      <td>-0.076126</td>\n",
       "      <td>-0.198342</td>\n",
       "      <td>-0.549318</td>\n",
       "      <td>-0.153976</td>\n",
       "      <td>-0.280679</td>\n",
       "      <td>...</td>\n",
       "      <td>0.635060</td>\n",
       "      <td>0.619695</td>\n",
       "      <td>0.206949</td>\n",
       "      <td>-0.514711</td>\n",
       "      <td>-0.526944</td>\n",
       "      <td>-0.26888</td>\n",
       "      <td>-0.495558</td>\n",
       "      <td>-0.082180</td>\n",
       "      <td>1.391883</td>\n",
       "      <td>-0.252456</td>\n",
       "    </tr>\n",
       "    <tr>\n",
       "      <th>ALL-108</th>\n",
       "      <td>-0.105476</td>\n",
       "      <td>-0.015407</td>\n",
       "      <td>4.985835</td>\n",
       "      <td>-0.679500</td>\n",
       "      <td>2.886241</td>\n",
       "      <td>-0.076126</td>\n",
       "      <td>-0.203766</td>\n",
       "      <td>-0.469392</td>\n",
       "      <td>-0.180810</td>\n",
       "      <td>-0.280679</td>\n",
       "      <td>...</td>\n",
       "      <td>-0.056812</td>\n",
       "      <td>0.509526</td>\n",
       "      <td>-0.032381</td>\n",
       "      <td>0.654353</td>\n",
       "      <td>-0.528483</td>\n",
       "      <td>-0.26888</td>\n",
       "      <td>-0.473717</td>\n",
       "      <td>0.069461</td>\n",
       "      <td>2.000075</td>\n",
       "      <td>-0.079614</td>\n",
       "    </tr>\n",
       "  </tbody>\n",
       "</table>\n",
       "<p>5 rows × 51968 columns</p>\n",
       "</div>"
      ],
      "text/plain": [
       "gene_short_name   5S_rRNA       7SK  A-575C2.4      A1BG  A1BG-AS1      A1CF  \\\n",
       "ALL-102         -0.105476 -0.362749   0.176368 -0.085413  0.568512 -0.076126   \n",
       "ALL-105         -0.105476 -0.212117   1.396867 -0.876420 -0.218766 -0.076126   \n",
       "ALL-106         -0.105476  0.117725   0.985826 -0.944448  1.557286 -0.076126   \n",
       "ALL-107         -0.105476 -0.313368   0.529082 -0.374782  0.828589 -0.076126   \n",
       "ALL-108         -0.105476 -0.015407   4.985835 -0.679500  2.886241 -0.076126   \n",
       "\n",
       "gene_short_name       A2M   A2M-AS1     A2ML1  A2ML1-AS1    ...        ZWINT  \\\n",
       "ALL-102         -0.163277  0.376611 -0.166153  -0.280679    ...    -0.087362   \n",
       "ALL-105         -0.147816  0.456024 -0.187391  -0.280679    ...    -0.007436   \n",
       "ALL-106         -0.147562  0.053567 -0.161250   1.223834    ...    -0.979839   \n",
       "ALL-107         -0.198342 -0.549318 -0.153976  -0.280679    ...     0.635060   \n",
       "ALL-108         -0.203766 -0.469392 -0.180810  -0.280679    ...    -0.056812   \n",
       "\n",
       "gene_short_name      ZXDA      ZXDB      ZXDC    ZYG11A  ZYG11AP1    ZYG11B  \\\n",
       "ALL-102          0.987357  0.143666 -0.207240 -0.520330  -0.26888 -0.802308   \n",
       "ALL-105          0.521135 -0.027453 -0.432469 -0.534542  -0.26888 -0.686817   \n",
       "ALL-106          0.360506 -0.293502  1.046099 -0.526741  -0.26888 -0.614609   \n",
       "ALL-107          0.619695  0.206949 -0.514711 -0.526944  -0.26888 -0.495558   \n",
       "ALL-108          0.509526 -0.032381  0.654353 -0.528483  -0.26888 -0.473717   \n",
       "\n",
       "gene_short_name       ZYX     ZZEF1      ZZZ3  \n",
       "ALL-102          0.863789  1.247531 -1.332722  \n",
       "ALL-105         -0.591681  0.285777 -1.043913  \n",
       "ALL-106         -0.390813  1.933373 -0.301257  \n",
       "ALL-107         -0.082180  1.391883 -0.252456  \n",
       "ALL-108          0.069461  2.000075 -0.079614  \n",
       "\n",
       "[5 rows x 51968 columns]"
      ]
     },
     "execution_count": 7,
     "metadata": {},
     "output_type": "execute_result"
    }
   ],
   "source": [
    "# Transform the gene expression data (z-score by gene)\n",
    "scaled_fit = StandardScaler().fit(exprs_df)\n",
    "exprs_scaled_df = pd.DataFrame(scaled_fit.transform(exprs_df),\n",
    "                               index=exprs_df.index,\n",
    "                               columns=exprs_df.columns)\n",
    "exprs_scaled_df.head()"
   ]
  },
  {
   "cell_type": "code",
   "execution_count": 8,
   "metadata": {},
   "outputs": [],
   "source": [
    "# Shuffle input RNAseq matrix and apply classifiers\n",
    "exprs_shuffled_df = exprs_scaled_df.apply(shuffle_columns, axis=0)"
   ]
  },
  {
   "cell_type": "markdown",
   "metadata": {},
   "source": [
    "## Apply Ras Classifier"
   ]
  },
  {
   "cell_type": "code",
   "execution_count": 9,
   "metadata": {},
   "outputs": [
    {
     "name": "stdout",
     "output_type": "stream",
     "text": [
      "(185, 3)\n"
     ]
    },
    {
     "data": {
      "text/html": [
       "<div>\n",
       "<style scoped>\n",
       "    .dataframe tbody tr th:only-of-type {\n",
       "        vertical-align: middle;\n",
       "    }\n",
       "\n",
       "    .dataframe tbody tr th {\n",
       "        vertical-align: top;\n",
       "    }\n",
       "\n",
       "    .dataframe thead th {\n",
       "        text-align: right;\n",
       "    }\n",
       "</style>\n",
       "<table border=\"1\" class=\"dataframe\">\n",
       "  <thead>\n",
       "    <tr style=\"text-align: right;\">\n",
       "      <th></th>\n",
       "      <th>feature</th>\n",
       "      <th>weight</th>\n",
       "      <th>abs_val</th>\n",
       "    </tr>\n",
       "  </thead>\n",
       "  <tbody>\n",
       "    <tr>\n",
       "      <th>6702</th>\n",
       "      <td>PBX3</td>\n",
       "      <td>0.139761</td>\n",
       "      <td>0.139761</td>\n",
       "    </tr>\n",
       "    <tr>\n",
       "      <th>4592</th>\n",
       "      <td>SPRY2</td>\n",
       "      <td>0.123713</td>\n",
       "      <td>0.123713</td>\n",
       "    </tr>\n",
       "    <tr>\n",
       "      <th>6708</th>\n",
       "      <td>C15orf52</td>\n",
       "      <td>0.106100</td>\n",
       "      <td>0.106100</td>\n",
       "    </tr>\n",
       "    <tr>\n",
       "      <th>2882</th>\n",
       "      <td>PPP1R3B</td>\n",
       "      <td>0.104700</td>\n",
       "      <td>0.104700</td>\n",
       "    </tr>\n",
       "    <tr>\n",
       "      <th>1520</th>\n",
       "      <td>MLPH</td>\n",
       "      <td>0.102069</td>\n",
       "      <td>0.102069</td>\n",
       "    </tr>\n",
       "  </tbody>\n",
       "</table>\n",
       "</div>"
      ],
      "text/plain": [
       "       feature    weight   abs_val\n",
       "6702      PBX3  0.139761  0.139761\n",
       "4592     SPRY2  0.123713  0.123713\n",
       "6708  C15orf52  0.106100  0.106100\n",
       "2882   PPP1R3B  0.104700  0.104700\n",
       "1520      MLPH  0.102069  0.102069"
      ]
     },
     "execution_count": 9,
     "metadata": {},
     "output_type": "execute_result"
    }
   ],
   "source": [
    "# Load RAS Classifier\n",
    "file = os.path.join('data', 'ras_classifier_coefficients.tsv')\n",
    "ras_coef_df = pd.read_table(file, index_col=0)\n",
    "ras_coef_df = ras_coef_df.query('abs_val > 0')\n",
    "\n",
    "print(ras_coef_df.shape)\n",
    "ras_coef_df.head()"
   ]
  },
  {
   "cell_type": "code",
   "execution_count": 10,
   "metadata": {},
   "outputs": [],
   "source": [
    "# Apply the Ras classifier to the input RNAseq matrix\n",
    "ras_scores_df, ras_common_genes_df, ras_missing_genes_df = (\n",
    "    apply_classifier(coef_df=ras_coef_df, rnaseq_df=exprs_scaled_df)\n",
    ")"
   ]
  },
  {
   "cell_type": "code",
   "execution_count": 11,
   "metadata": {},
   "outputs": [
    {
     "name": "stdout",
     "output_type": "stream",
     "text": [
      "There are a total of 173 out of 185 genes in common (93.51%) between the datasets\n"
     ]
    }
   ],
   "source": [
    "# Determine the extent of coefficient overlap\n",
    "print('There are a total of {} out of {} genes in common ({}%) between the datasets'\n",
    "      .format(ras_common_genes_df.shape[0],\n",
    "              ras_coef_df.shape[0],\n",
    "              round(ras_common_genes_df.shape[0] / ras_coef_df.shape[0] * 100, 2)))"
   ]
  },
  {
   "cell_type": "code",
   "execution_count": 12,
   "metadata": {},
   "outputs": [
    {
     "data": {
      "text/html": [
       "<div>\n",
       "<style scoped>\n",
       "    .dataframe tbody tr th:only-of-type {\n",
       "        vertical-align: middle;\n",
       "    }\n",
       "\n",
       "    .dataframe tbody tr th {\n",
       "        vertical-align: top;\n",
       "    }\n",
       "\n",
       "    .dataframe thead th {\n",
       "        text-align: right;\n",
       "    }\n",
       "</style>\n",
       "<table border=\"1\" class=\"dataframe\">\n",
       "  <thead>\n",
       "    <tr style=\"text-align: right;\">\n",
       "      <th></th>\n",
       "      <th>feature</th>\n",
       "      <th>weight</th>\n",
       "      <th>abs_val</th>\n",
       "    </tr>\n",
       "  </thead>\n",
       "  <tbody>\n",
       "    <tr>\n",
       "      <th>6994</th>\n",
       "      <td>KIAA1539</td>\n",
       "      <td>0.069202</td>\n",
       "      <td>0.069202</td>\n",
       "    </tr>\n",
       "    <tr>\n",
       "      <th>5954</th>\n",
       "      <td>C12orf11</td>\n",
       "      <td>0.063514</td>\n",
       "      <td>0.063514</td>\n",
       "    </tr>\n",
       "    <tr>\n",
       "      <th>7023</th>\n",
       "      <td>ZNF322A</td>\n",
       "      <td>0.048071</td>\n",
       "      <td>0.048071</td>\n",
       "    </tr>\n",
       "    <tr>\n",
       "      <th>8033</th>\n",
       "      <td>log10_mut</td>\n",
       "      <td>0.048028</td>\n",
       "      <td>0.048028</td>\n",
       "    </tr>\n",
       "    <tr>\n",
       "      <th>6042</th>\n",
       "      <td>C17orf63</td>\n",
       "      <td>0.035493</td>\n",
       "      <td>0.035493</td>\n",
       "    </tr>\n",
       "    <tr>\n",
       "      <th>4795</th>\n",
       "      <td>C17orf37</td>\n",
       "      <td>-0.034015</td>\n",
       "      <td>0.034015</td>\n",
       "    </tr>\n",
       "    <tr>\n",
       "      <th>1672</th>\n",
       "      <td>C9orf86</td>\n",
       "      <td>0.028749</td>\n",
       "      <td>0.028749</td>\n",
       "    </tr>\n",
       "    <tr>\n",
       "      <th>4927</th>\n",
       "      <td>BRP44</td>\n",
       "      <td>-0.026352</td>\n",
       "      <td>0.026352</td>\n",
       "    </tr>\n",
       "    <tr>\n",
       "      <th>52</th>\n",
       "      <td>LOC96610</td>\n",
       "      <td>-0.020048</td>\n",
       "      <td>0.020048</td>\n",
       "    </tr>\n",
       "    <tr>\n",
       "      <th>7281</th>\n",
       "      <td>FAM125B</td>\n",
       "      <td>0.018148</td>\n",
       "      <td>0.018148</td>\n",
       "    </tr>\n",
       "    <tr>\n",
       "      <th>1617</th>\n",
       "      <td>C17orf28</td>\n",
       "      <td>0.010409</td>\n",
       "      <td>0.010409</td>\n",
       "    </tr>\n",
       "    <tr>\n",
       "      <th>7851</th>\n",
       "      <td>LOC25845</td>\n",
       "      <td>-0.008914</td>\n",
       "      <td>0.008914</td>\n",
       "    </tr>\n",
       "  </tbody>\n",
       "</table>\n",
       "</div>"
      ],
      "text/plain": [
       "        feature    weight   abs_val\n",
       "6994   KIAA1539  0.069202  0.069202\n",
       "5954   C12orf11  0.063514  0.063514\n",
       "7023    ZNF322A  0.048071  0.048071\n",
       "8033  log10_mut  0.048028  0.048028\n",
       "6042   C17orf63  0.035493  0.035493\n",
       "4795   C17orf37 -0.034015  0.034015\n",
       "1672    C9orf86  0.028749  0.028749\n",
       "4927      BRP44 -0.026352  0.026352\n",
       "52     LOC96610 -0.020048  0.020048\n",
       "7281    FAM125B  0.018148  0.018148\n",
       "1617   C17orf28  0.010409  0.010409\n",
       "7851   LOC25845 -0.008914  0.008914"
      ]
     },
     "execution_count": 12,
     "metadata": {},
     "output_type": "execute_result"
    }
   ],
   "source": [
    "# Which Genes are Missing?\n",
    "ras_missing_genes_df"
   ]
  },
  {
   "cell_type": "code",
   "execution_count": 13,
   "metadata": {},
   "outputs": [
    {
     "data": {
      "image/png": "[encoded data removed]",
      "text/plain": [
       "<Figure size 432x288 with 1 Axes>"
      ]
     },
     "metadata": {},
     "output_type": "display_data"
    }
   ],
   "source": [
    "# Distribution of predictions of the Ras Classifier applied to input data\n",
    "ras_scores_df.T.hist(bins=30);"
   ]
  },
  {
   "cell_type": "markdown",
   "metadata": {},
   "source": [
    "### Apply Ras Classifier to Shuffled Data"
   ]
  },
  {
   "cell_type": "code",
   "execution_count": 14,
   "metadata": {},
   "outputs": [],
   "source": [
    "# Apply the Ras classifier to the input RNAseq matrix \n",
    "ras_shuffle_scores_df, ras_shuffle_common_genes_df, ras_shuffle_missing_genes_df = (\n",
    "    apply_classifier(coef_df=ras_coef_df, rnaseq_df=exprs_shuffled_df)\n",
    ")"
   ]
  },
  {
   "cell_type": "markdown",
   "metadata": {},
   "source": [
    "## Apply TP53 Classifier"
   ]
  },
  {
   "cell_type": "code",
   "execution_count": 15,
   "metadata": {},
   "outputs": [
    {
     "name": "stdout",
     "output_type": "stream",
     "text": [
      "(319, 3)\n"
     ]
    },
    {
     "data": {
      "text/html": [
       "<div>\n",
       "<style scoped>\n",
       "    .dataframe tbody tr th:only-of-type {\n",
       "        vertical-align: middle;\n",
       "    }\n",
       "\n",
       "    .dataframe tbody tr th {\n",
       "        vertical-align: top;\n",
       "    }\n",
       "\n",
       "    .dataframe thead th {\n",
       "        text-align: right;\n",
       "    }\n",
       "</style>\n",
       "<table border=\"1\" class=\"dataframe\">\n",
       "  <thead>\n",
       "    <tr style=\"text-align: right;\">\n",
       "      <th></th>\n",
       "      <th>feature</th>\n",
       "      <th>weight</th>\n",
       "      <th>abs_val</th>\n",
       "    </tr>\n",
       "  </thead>\n",
       "  <tbody>\n",
       "    <tr>\n",
       "      <th>6922</th>\n",
       "      <td>DDB2</td>\n",
       "      <td>-0.212359</td>\n",
       "      <td>0.212359</td>\n",
       "    </tr>\n",
       "    <tr>\n",
       "      <th>6472</th>\n",
       "      <td>AEN</td>\n",
       "      <td>-0.195592</td>\n",
       "      <td>0.195592</td>\n",
       "    </tr>\n",
       "    <tr>\n",
       "      <th>3464</th>\n",
       "      <td>RPS27L</td>\n",
       "      <td>-0.181545</td>\n",
       "      <td>0.181545</td>\n",
       "    </tr>\n",
       "    <tr>\n",
       "      <th>2341</th>\n",
       "      <td>MDM2</td>\n",
       "      <td>-0.145332</td>\n",
       "      <td>0.145332</td>\n",
       "    </tr>\n",
       "    <tr>\n",
       "      <th>4346</th>\n",
       "      <td>BAX</td>\n",
       "      <td>-0.125992</td>\n",
       "      <td>0.125992</td>\n",
       "    </tr>\n",
       "  </tbody>\n",
       "</table>\n",
       "</div>"
      ],
      "text/plain": [
       "     feature    weight   abs_val\n",
       "6922    DDB2 -0.212359  0.212359\n",
       "6472     AEN -0.195592  0.195592\n",
       "3464  RPS27L -0.181545  0.181545\n",
       "2341    MDM2 -0.145332  0.145332\n",
       "4346     BAX -0.125992  0.125992"
      ]
     },
     "execution_count": 15,
     "metadata": {},
     "output_type": "execute_result"
    }
   ],
   "source": [
    "# Load RAS Classifier\n",
    "file = os.path.join('data', 'tp53_classifier_coefficients.tsv')\n",
    "tp53_coef_df = pd.read_table(file, index_col=0)\n",
    "tp53_coef_df = tp53_coef_df.query('abs_val > 0')\n",
    "\n",
    "print(tp53_coef_df.shape)\n",
    "tp53_coef_df.head()"
   ]
  },
  {
   "cell_type": "code",
   "execution_count": 16,
   "metadata": {},
   "outputs": [],
   "source": [
    "# Apply the TP53 classifier to the input RNAseq matrix\n",
    "tp53_scores_df, tp53_common_genes_df, tp53_missing_genes_df = (\n",
    "    apply_classifier(coef_df=tp53_coef_df, rnaseq_df=exprs_scaled_df)\n",
    ")"
   ]
  },
  {
   "cell_type": "code",
   "execution_count": 17,
   "metadata": {},
   "outputs": [
    {
     "name": "stdout",
     "output_type": "stream",
     "text": [
      "There are a total of 301 out of 319 genes in common (94.36%) between the datasets\n"
     ]
    }
   ],
   "source": [
    "# Determine the extent of coefficient overlap\n",
    "print('There are a total of {} out of {} genes in common ({}%) between the datasets'\n",
    "      .format(tp53_common_genes_df.shape[0],\n",
    "              tp53_coef_df.shape[0],\n",
    "              round(tp53_common_genes_df.shape[0] / tp53_coef_df.shape[0] * 100, 2)))"
   ]
  },
  {
   "cell_type": "code",
   "execution_count": 18,
   "metadata": {},
   "outputs": [
    {
     "data": {
      "text/html": [
       "<div>\n",
       "<style scoped>\n",
       "    .dataframe tbody tr th:only-of-type {\n",
       "        vertical-align: middle;\n",
       "    }\n",
       "\n",
       "    .dataframe tbody tr th {\n",
       "        vertical-align: top;\n",
       "    }\n",
       "\n",
       "    .dataframe thead th {\n",
       "        text-align: right;\n",
       "    }\n",
       "</style>\n",
       "<table border=\"1\" class=\"dataframe\">\n",
       "  <thead>\n",
       "    <tr style=\"text-align: right;\">\n",
       "      <th></th>\n",
       "      <th>feature</th>\n",
       "      <th>weight</th>\n",
       "      <th>abs_val</th>\n",
       "    </tr>\n",
       "  </thead>\n",
       "  <tbody>\n",
       "    <tr>\n",
       "      <th>4274</th>\n",
       "      <td>C19orf2</td>\n",
       "      <td>0.044708</td>\n",
       "      <td>0.044708</td>\n",
       "    </tr>\n",
       "    <tr>\n",
       "      <th>7355</th>\n",
       "      <td>C6orf192</td>\n",
       "      <td>-0.040536</td>\n",
       "      <td>0.040536</td>\n",
       "    </tr>\n",
       "    <tr>\n",
       "      <th>7856</th>\n",
       "      <td>C17orf68</td>\n",
       "      <td>-0.033953</td>\n",
       "      <td>0.033953</td>\n",
       "    </tr>\n",
       "    <tr>\n",
       "      <th>7603</th>\n",
       "      <td>KIAA1804</td>\n",
       "      <td>0.031246</td>\n",
       "      <td>0.031246</td>\n",
       "    </tr>\n",
       "    <tr>\n",
       "      <th>6210</th>\n",
       "      <td>KIAA0415</td>\n",
       "      <td>0.026226</td>\n",
       "      <td>0.026226</td>\n",
       "    </tr>\n",
       "    <tr>\n",
       "      <th>4984</th>\n",
       "      <td>C19orf50</td>\n",
       "      <td>0.026029</td>\n",
       "      <td>0.026029</td>\n",
       "    </tr>\n",
       "    <tr>\n",
       "      <th>7669</th>\n",
       "      <td>FTHL3</td>\n",
       "      <td>0.022275</td>\n",
       "      <td>0.022275</td>\n",
       "    </tr>\n",
       "    <tr>\n",
       "      <th>2958</th>\n",
       "      <td>C20orf43</td>\n",
       "      <td>0.022058</td>\n",
       "      <td>0.022058</td>\n",
       "    </tr>\n",
       "    <tr>\n",
       "      <th>3682</th>\n",
       "      <td>KIAA0090</td>\n",
       "      <td>0.019398</td>\n",
       "      <td>0.019398</td>\n",
       "    </tr>\n",
       "    <tr>\n",
       "      <th>6322</th>\n",
       "      <td>KIAA1632</td>\n",
       "      <td>-0.017291</td>\n",
       "      <td>0.017291</td>\n",
       "    </tr>\n",
       "    <tr>\n",
       "      <th>7602</th>\n",
       "      <td>C1orf57</td>\n",
       "      <td>-0.015932</td>\n",
       "      <td>0.015932</td>\n",
       "    </tr>\n",
       "    <tr>\n",
       "      <th>3252</th>\n",
       "      <td>C1orf93</td>\n",
       "      <td>0.013086</td>\n",
       "      <td>0.013086</td>\n",
       "    </tr>\n",
       "    <tr>\n",
       "      <th>5260</th>\n",
       "      <td>CHCHD8</td>\n",
       "      <td>0.011840</td>\n",
       "      <td>0.011840</td>\n",
       "    </tr>\n",
       "    <tr>\n",
       "      <th>4531</th>\n",
       "      <td>LGTN</td>\n",
       "      <td>-0.010107</td>\n",
       "      <td>0.010107</td>\n",
       "    </tr>\n",
       "    <tr>\n",
       "      <th>7110</th>\n",
       "      <td>LOC147727</td>\n",
       "      <td>0.007801</td>\n",
       "      <td>0.007801</td>\n",
       "    </tr>\n",
       "    <tr>\n",
       "      <th>8003</th>\n",
       "      <td>CESC</td>\n",
       "      <td>-0.006096</td>\n",
       "      <td>0.006096</td>\n",
       "    </tr>\n",
       "    <tr>\n",
       "      <th>1564</th>\n",
       "      <td>PTPRK</td>\n",
       "      <td>0.004631</td>\n",
       "      <td>0.004631</td>\n",
       "    </tr>\n",
       "    <tr>\n",
       "      <th>3870</th>\n",
       "      <td>LPPR2</td>\n",
       "      <td>-0.002444</td>\n",
       "      <td>0.002444</td>\n",
       "    </tr>\n",
       "  </tbody>\n",
       "</table>\n",
       "</div>"
      ],
      "text/plain": [
       "        feature    weight   abs_val\n",
       "4274    C19orf2  0.044708  0.044708\n",
       "7355   C6orf192 -0.040536  0.040536\n",
       "7856   C17orf68 -0.033953  0.033953\n",
       "7603   KIAA1804  0.031246  0.031246\n",
       "6210   KIAA0415  0.026226  0.026226\n",
       "4984   C19orf50  0.026029  0.026029\n",
       "7669      FTHL3  0.022275  0.022275\n",
       "2958   C20orf43  0.022058  0.022058\n",
       "3682   KIAA0090  0.019398  0.019398\n",
       "6322   KIAA1632 -0.017291  0.017291\n",
       "7602    C1orf57 -0.015932  0.015932\n",
       "3252    C1orf93  0.013086  0.013086\n",
       "5260     CHCHD8  0.011840  0.011840\n",
       "4531       LGTN -0.010107  0.010107\n",
       "7110  LOC147727  0.007801  0.007801\n",
       "8003       CESC -0.006096  0.006096\n",
       "1564      PTPRK  0.004631  0.004631\n",
       "3870      LPPR2 -0.002444  0.002444"
      ]
     },
     "execution_count": 18,
     "metadata": {},
     "output_type": "execute_result"
    }
   ],
   "source": [
    "# Which Genes are Missing?\n",
    "tp53_missing_genes_df"
   ]
  },
  {
   "cell_type": "code",
   "execution_count": 19,
   "metadata": {},
   "outputs": [
    {
     "data": {
      "image/png": "[encoded data removed]",
      "text/plain": [
       "<Figure size 432x288 with 1 Axes>"
      ]
     },
     "metadata": {},
     "output_type": "display_data"
    }
   ],
   "source": [
    "# Distribution of predictions of the TP53 Classifier applied to input data\n",
    "tp53_scores_df.T.hist(bins=30);"
   ]
  },
  {
   "cell_type": "markdown",
   "metadata": {},
   "source": [
    "### Apply TP53 Classifier to Shuffled Data"
   ]
  },
  {
   "cell_type": "code",
   "execution_count": 20,
   "metadata": {},
   "outputs": [],
   "source": [
    "# Apply the Ras classifier to the input RNAseq matrix \n",
    "tp53_shuffle_scores_df, tp53_shuffle_common_genes_df, tp53_shuffle_missing_genes_df = (\n",
    "    apply_classifier(coef_df=tp53_coef_df, rnaseq_df=exprs_shuffled_df)\n",
    ")"
   ]
  },
  {
   "cell_type": "markdown",
   "metadata": {},
   "source": [
    "## Apply NF1 Classifier"
   ]
  },
  {
   "cell_type": "code",
   "execution_count": 21,
   "metadata": {},
   "outputs": [
    {
     "name": "stdout",
     "output_type": "stream",
     "text": [
      "(55, 3)\n"
     ]
    },
    {
     "data": {
      "text/html": [
       "<div>\n",
       "<style scoped>\n",
       "    .dataframe tbody tr th:only-of-type {\n",
       "        vertical-align: middle;\n",
       "    }\n",
       "\n",
       "    .dataframe tbody tr th {\n",
       "        vertical-align: top;\n",
       "    }\n",
       "\n",
       "    .dataframe thead th {\n",
       "        text-align: right;\n",
       "    }\n",
       "</style>\n",
       "<table border=\"1\" class=\"dataframe\">\n",
       "  <thead>\n",
       "    <tr style=\"text-align: right;\">\n",
       "      <th></th>\n",
       "      <th>feature</th>\n",
       "      <th>weight</th>\n",
       "      <th>abs_val</th>\n",
       "    </tr>\n",
       "  </thead>\n",
       "  <tbody>\n",
       "    <tr>\n",
       "      <th>3815</th>\n",
       "      <td>SPRED2</td>\n",
       "      <td>0.165174</td>\n",
       "      <td>0.165174</td>\n",
       "    </tr>\n",
       "    <tr>\n",
       "      <th>7151</th>\n",
       "      <td>GOSR1</td>\n",
       "      <td>-0.155423</td>\n",
       "      <td>0.155423</td>\n",
       "    </tr>\n",
       "    <tr>\n",
       "      <th>7894</th>\n",
       "      <td>KCNS3</td>\n",
       "      <td>0.067975</td>\n",
       "      <td>0.067975</td>\n",
       "    </tr>\n",
       "    <tr>\n",
       "      <th>1483</th>\n",
       "      <td>WDR45L</td>\n",
       "      <td>0.067480</td>\n",
       "      <td>0.067480</td>\n",
       "    </tr>\n",
       "    <tr>\n",
       "      <th>856</th>\n",
       "      <td>FCGRT</td>\n",
       "      <td>-0.062596</td>\n",
       "      <td>0.062596</td>\n",
       "    </tr>\n",
       "  </tbody>\n",
       "</table>\n",
       "</div>"
      ],
      "text/plain": [
       "     feature    weight   abs_val\n",
       "3815  SPRED2  0.165174  0.165174\n",
       "7151   GOSR1 -0.155423  0.155423\n",
       "7894   KCNS3  0.067975  0.067975\n",
       "1483  WDR45L  0.067480  0.067480\n",
       "856    FCGRT -0.062596  0.062596"
      ]
     },
     "execution_count": 21,
     "metadata": {},
     "output_type": "execute_result"
    }
   ],
   "source": [
    "# Load NF1 Classifier\n",
    "file = os.path.join('data', 'nf1_classifier_coefficients.tsv')\n",
    "nf1_coef_df = pd.read_table(file, index_col=0)\n",
    "nf1_coef_df = nf1_coef_df.query('abs_val > 0')\n",
    "\n",
    "print(nf1_coef_df.shape)\n",
    "nf1_coef_df.head()"
   ]
  },
  {
   "cell_type": "code",
   "execution_count": 22,
   "metadata": {},
   "outputs": [],
   "source": [
    "# Apply the NF1 classifier to the input RNAseq matrix\n",
    "nf1_scores_df, nf1_common_genes_df, nf1_missing_genes_df = (\n",
    "    apply_classifier(coef_df=nf1_coef_df, rnaseq_df=exprs_scaled_df)\n",
    ")"
   ]
  },
  {
   "cell_type": "code",
   "execution_count": 23,
   "metadata": {},
   "outputs": [
    {
     "name": "stdout",
     "output_type": "stream",
     "text": [
      "There are a total of 53 out of 55 genes in common (96.36%) between the datasets\n"
     ]
    }
   ],
   "source": [
    "# Determine the extent of coefficient overlap\n",
    "print('There are a total of {} out of {} genes in common ({}%) between the datasets'\n",
    "      .format(nf1_common_genes_df.shape[0],\n",
    "              nf1_coef_df.shape[0],\n",
    "              round(nf1_common_genes_df.shape[0] / nf1_coef_df.shape[0] * 100, 2)))"
   ]
  },
  {
   "cell_type": "code",
   "execution_count": 24,
   "metadata": {},
   "outputs": [
    {
     "data": {
      "text/html": [
       "<div>\n",
       "<style scoped>\n",
       "    .dataframe tbody tr th:only-of-type {\n",
       "        vertical-align: middle;\n",
       "    }\n",
       "\n",
       "    .dataframe tbody tr th {\n",
       "        vertical-align: top;\n",
       "    }\n",
       "\n",
       "    .dataframe thead th {\n",
       "        text-align: right;\n",
       "    }\n",
       "</style>\n",
       "<table border=\"1\" class=\"dataframe\">\n",
       "  <thead>\n",
       "    <tr style=\"text-align: right;\">\n",
       "      <th></th>\n",
       "      <th>feature</th>\n",
       "      <th>weight</th>\n",
       "      <th>abs_val</th>\n",
       "    </tr>\n",
       "  </thead>\n",
       "  <tbody>\n",
       "    <tr>\n",
       "      <th>1483</th>\n",
       "      <td>WDR45L</td>\n",
       "      <td>0.067480</td>\n",
       "      <td>0.067480</td>\n",
       "    </tr>\n",
       "    <tr>\n",
       "      <th>1819</th>\n",
       "      <td>SFRS9</td>\n",
       "      <td>0.003948</td>\n",
       "      <td>0.003948</td>\n",
       "    </tr>\n",
       "  </tbody>\n",
       "</table>\n",
       "</div>"
      ],
      "text/plain": [
       "     feature    weight   abs_val\n",
       "1483  WDR45L  0.067480  0.067480\n",
       "1819   SFRS9  0.003948  0.003948"
      ]
     },
     "execution_count": 24,
     "metadata": {},
     "output_type": "execute_result"
    }
   ],
   "source": [
    "# Which Genes are Missing?\n",
    "nf1_missing_genes_df"
   ]
  },
  {
   "cell_type": "code",
   "execution_count": 25,
   "metadata": {
    "scrolled": true
   },
   "outputs": [
    {
     "data": {
      "image/png": "[encoded data removed]",
      "text/plain": [
       "<Figure size 432x288 with 1 Axes>"
      ]
     },
     "metadata": {},
     "output_type": "display_data"
    }
   ],
   "source": [
    "# Distribution of predictions of the NF1 Classifier applied to input data\n",
    "nf1_scores_df.T.hist(bins=30);"
   ]
  },
  {
   "cell_type": "markdown",
   "metadata": {},
   "source": [
    "### Apply NF1 Classifier to Shuffled Data"
   ]
  },
  {
   "cell_type": "code",
   "execution_count": 26,
   "metadata": {},
   "outputs": [],
   "source": [
    "# Apply the NF1 classifier to the input RNAseq matrix \n",
    "nf1_shuffle_scores_df, nf1_shuffle_common_genes_df, nf1_shuffle_missing_genes_df = (\n",
    "    apply_classifier(coef_df=nf1_coef_df, rnaseq_df=exprs_shuffled_df)\n",
    ")"
   ]
  },
  {
   "cell_type": "markdown",
   "metadata": {},
   "source": [
    "## Combine Ras and TP53 predictions and output to file"
   ]
  },
  {
   "cell_type": "code",
   "execution_count": 27,
   "metadata": {},
   "outputs": [
    {
     "data": {
      "text/html": [
       "<div>\n",
       "<style scoped>\n",
       "    .dataframe tbody tr th:only-of-type {\n",
       "        vertical-align: middle;\n",
       "    }\n",
       "\n",
       "    .dataframe tbody tr th {\n",
       "        vertical-align: top;\n",
       "    }\n",
       "\n",
       "    .dataframe thead th {\n",
       "        text-align: right;\n",
       "    }\n",
       "</style>\n",
       "<table border=\"1\" class=\"dataframe\">\n",
       "  <thead>\n",
       "    <tr style=\"text-align: right;\">\n",
       "      <th></th>\n",
       "      <th>sample_id</th>\n",
       "      <th>ras_score</th>\n",
       "      <th>tp53_score</th>\n",
       "      <th>nf1_score</th>\n",
       "      <th>ras_shuffle</th>\n",
       "      <th>tp53_shuffle</th>\n",
       "      <th>nf1_shuffle</th>\n",
       "    </tr>\n",
       "  </thead>\n",
       "  <tbody>\n",
       "    <tr>\n",
       "      <th>0</th>\n",
       "      <td>ALL-102</td>\n",
       "      <td>0.518981</td>\n",
       "      <td>0.445680</td>\n",
       "      <td>0.512375</td>\n",
       "      <td>0.538111</td>\n",
       "      <td>0.478057</td>\n",
       "      <td>0.455018</td>\n",
       "    </tr>\n",
       "    <tr>\n",
       "      <th>1</th>\n",
       "      <td>ALL-105</td>\n",
       "      <td>0.412244</td>\n",
       "      <td>0.535791</td>\n",
       "      <td>0.453174</td>\n",
       "      <td>0.223243</td>\n",
       "      <td>0.605541</td>\n",
       "      <td>0.476224</td>\n",
       "    </tr>\n",
       "    <tr>\n",
       "      <th>2</th>\n",
       "      <td>ALL-106</td>\n",
       "      <td>0.446115</td>\n",
       "      <td>0.380306</td>\n",
       "      <td>0.419511</td>\n",
       "      <td>0.430867</td>\n",
       "      <td>0.616366</td>\n",
       "      <td>0.506245</td>\n",
       "    </tr>\n",
       "    <tr>\n",
       "      <th>3</th>\n",
       "      <td>ALL-107</td>\n",
       "      <td>0.372313</td>\n",
       "      <td>0.443016</td>\n",
       "      <td>0.457767</td>\n",
       "      <td>0.545714</td>\n",
       "      <td>0.707150</td>\n",
       "      <td>0.493666</td>\n",
       "    </tr>\n",
       "    <tr>\n",
       "      <th>4</th>\n",
       "      <td>ALL-108</td>\n",
       "      <td>0.438421</td>\n",
       "      <td>0.458613</td>\n",
       "      <td>0.454743</td>\n",
       "      <td>0.350902</td>\n",
       "      <td>0.325804</td>\n",
       "      <td>0.653060</td>\n",
       "    </tr>\n",
       "  </tbody>\n",
       "</table>\n",
       "</div>"
      ],
      "text/plain": [
       "  sample_id  ras_score  tp53_score  nf1_score  ras_shuffle  tp53_shuffle  \\\n",
       "0   ALL-102   0.518981    0.445680   0.512375     0.538111      0.478057   \n",
       "1   ALL-105   0.412244    0.535791   0.453174     0.223243      0.605541   \n",
       "2   ALL-106   0.446115    0.380306   0.419511     0.430867      0.616366   \n",
       "3   ALL-107   0.372313    0.443016   0.457767     0.545714      0.707150   \n",
       "4   ALL-108   0.438421    0.458613   0.454743     0.350902      0.325804   \n",
       "\n",
       "   nf1_shuffle  \n",
       "0     0.455018  \n",
       "1     0.476224  \n",
       "2     0.506245  \n",
       "3     0.493666  \n",
       "4     0.653060  "
      ]
     },
     "execution_count": 27,
     "metadata": {},
     "output_type": "execute_result"
    }
   ],
   "source": [
    "results_list = [ras_scores_df.T, tp53_scores_df.T, nf1_scores_df.T,\n",
    "                ras_shuffle_scores_df.T, tp53_shuffle_scores_df.T,\n",
    "                nf1_shuffle_scores_df.T]\n",
    "\n",
    "all_results = pd.concat(results_list, axis='columns').reset_index()\n",
    "all_results.columns = ['sample_id', 'ras_score', 'tp53_score', 'nf1_score',\n",
    "                       'ras_shuffle', 'tp53_shuffle', 'nf1_shuffle']\n",
    "\n",
    "file = os.path.join('results', 'classifier_scores.tsv')\n",
    "all_results.to_csv(file, sep='\\t', index=False)\n",
    "\n",
    "all_results.head()"
   ]
  },
  {
   "cell_type": "code",
   "execution_count": 28,
   "metadata": {
    "scrolled": false
   },
   "outputs": [
    {
     "data": {
      "image/png": "[encoded data removed]",
      "text/plain": [
       "<Figure size 432x288 with 1 Axes>"
      ]
     },
     "metadata": {},
     "output_type": "display_data"
    }
   ],
   "source": [
    "all_results.plot(kind='scatter', x='ras_score', y='nf1_score');"
   ]
  }
 ],
 "metadata": {
  "kernelspec": {
   "display_name": "Python [conda env:expression-classification]",
   "language": "python",
   "name": "conda-env-expression-classification-py"
  },
  "language_info": {
   "codemirror_mode": {
    "name": "ipython",
    "version": 3
   },
   "file_extension": ".py",
   "mimetype": "text/x-python",
   "name": "python",
   "nbconvert_exporter": "python",
   "pygments_lexer": "ipython3",
   "version": "3.5.5"
  }
 },
 "nbformat": 4,
 "nbformat_minor": 2
}
